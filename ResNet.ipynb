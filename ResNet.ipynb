{
 "cells": [
  {
   "cell_type": "code",
   "execution_count": null,
   "metadata": {},
   "outputs": [],
   "source": [
    "import torch\n",
    "import numpy as np\n",
    "import torch.nn as nn\n",
    "import torch.nn.functional as F\n",
    "import torch.optim as optim\n",
    "from torch.autograd import Variable\n"
   ]
  },
  {
   "cell_type": "code",
   "execution_count": null,
   "metadata": {},
   "outputs": [],
   "source": [
    "def unpickle(file):\n",
    "    import pickle\n",
    "    with open(file) as fo:\n",
    "        dict = pickle.load(fo, encoding-'bytes')\n",
    "    return dict"
   ]
  },
  {
   "cell_type": "code",
   "execution_count": 1,
   "metadata": {},
   "outputs": [
    {
     "ename": "SyntaxError",
     "evalue": "unexpected EOF while parsing (<ipython-input-1-8f3f5b56900b>, line 2)",
     "output_type": "error",
     "traceback": [
      "\u001b[0;36m  File \u001b[0;32m\"<ipython-input-1-8f3f5b56900b>\"\u001b[0;36m, line \u001b[0;32m2\u001b[0m\n\u001b[0;31m    \u001b[0m\n\u001b[0m    ^\u001b[0m\n\u001b[0;31mSyntaxError\u001b[0m\u001b[0;31m:\u001b[0m unexpected EOF while parsing\n"
     ]
    }
   ],
   "source": [
    "class Con_Block1(nn.Module):\n",
    "    def _init_(self):\n",
    "        super(Block, self)._init_()\n",
    "        self.net = nn.Sequential(\n",
    "            nn.Conv2d(3, 4, 3, 1, 1, bias=False),\n",
    "#             nn.BatchNorm2d(4),\n",
    "            nn.ReLU(inplace = True),\n",
    "            nn.Conv2d(4, 8, 3, 1, 1, bias = False)\n",
    "        )\n",
    "        self.short = nn.Sequential(\n",
    "            nn.Conv2d(3, 8, 1, 1, 1, bias=False)\n",
    "        )\n",
    "        self.end = nn.Sequential(\n",
    "            nn.BatchNorm2d(8),\n",
    "            nn.ReLU(inplace = True),\n",
    "            torch.nn.MaxPool2d(2)\n",
    "        )    \n",
    "    def forward(self, x):\n",
    "        out = self.net(x)\n",
    "        residual = self.short(x)\n",
    "        out += residual\n",
    "        out = self.end(out)\n",
    "        return out"
   ]
  },
  {
   "cell_type": "code",
   "execution_count": null,
   "metadata": {},
   "outputs": [],
   "source": [
    "class Con_Block2(nn.Module):\n",
    "    def _init_(self):\n",
    "        super(Block, self)._init_()\n",
    "        self.net = nn.Sequential(\n",
    "            nn.Conv2d(8, 16, 3, 1, 1, bias=False),\n",
    "#             nn.BatchNorm2d(16),\n",
    "            nn.ReLU(inplace = True),\n",
    "            nn.Conv2d(16, 32, 3, 1, 1, bias = False)\n",
    "        )\n",
    "        self.short = nn.Sequential(\n",
    "            nn.Conv2d(8, 32, 1, 1, 1, bias=False)\n",
    "        )\n",
    "        self.end = nn.Sequential(\n",
    "            nn.BatchNorm2d(32),\n",
    "            nn.ReLU(inplace = True),\n",
    "            torch.nn.MaxPool2d(2)\n",
    "        )    \n",
    "    def forward(self, x):\n",
    "        out = self.net(x)\n",
    "        residual = self.short(x)\n",
    "        out += residual\n",
    "        out = self.end(out)\n",
    "        return out"
   ]
  },
  {
   "cell_type": "code",
   "execution_count": null,
   "metadata": {},
   "outputs": [],
   "source": [
    "class Fc_Block1(nn.Module):\n",
    "    def _init_(self):\n",
    "        super(Block, self)._init_()\n",
    "        self.net = nn.Sequential(\n",
    "            torch.nn.Linear(2048, 1024),\n",
    "            torch.nn.ReLU(),\n",
    "            torch.nn.Linear(1024, 512)\n",
    "        )\n",
    "        self.short = nn.Sequential(\n",
    "            torch.nn.Linear(2048, 512)\n",
    "        )\n",
    "        self.end = nn.Sequential(\n",
    "#             nn.BatchNorm(32),\n",
    "            nn.ReLU(inplace = True)\n",
    "        )    \n",
    "    def forward(self, x):\n",
    "        out = self.net(x)\n",
    "        residual = self.short(x)\n",
    "        out += residual\n",
    "        out = self.end(out)\n",
    "        return out"
   ]
  },
  {
   "cell_type": "code",
   "execution_count": null,
   "metadata": {},
   "outputs": [],
   "source": [
    "class Fc_Block2(nn.Module):\n",
    "    def _init_(self):\n",
    "        super(Block, self)._init_()\n",
    "        self.net = nn.Sequential(\n",
    "            torch.nn.Linear(512, 256),\n",
    "            torch.nn.ReLU(),\n",
    "            torch.nn.Linear(256, 128)\n",
    "        )\n",
    "        self.short = nn.Sequential(\n",
    "            torch.nn.Linear(512, 128)\n",
    "        )\n",
    "        self.end = nn.Sequential(\n",
    "#             nn.BatchNorm(32),\n",
    "            nn.ReLU(inplace = True)\n",
    "        )    \n",
    "    def forward(self, x):\n",
    "        out = self.net(x)\n",
    "        residual = self.short(x)\n",
    "        out += residual\n",
    "        out = self.end(out)\n",
    "        return out"
   ]
  },
  {
   "cell_type": "code",
   "execution_count": null,
   "metadata": {},
   "outputs": [],
   "source": [
    "class Fc_Block3(nn.Module):\n",
    "    def _init_(self):\n",
    "        super(Block, self)._init_()\n",
    "        self.net = nn.Sequential(\n",
    "            torch.nn.Linear(128, 64),\n",
    "            torch.nn.ReLU(),\n",
    "            torch.nn.Linear(64, 32)\n",
    "        )\n",
    "        self.short = nn.Sequential(\n",
    "            torch.nn.Linear(128, 32)\n",
    "        )\n",
    "        self.end = nn.Sequential(\n",
    "#             nn.BatchNorm(32),\n",
    "            nn.ReLU(inplace = True)\n",
    "        )    \n",
    "    def forward(self, x):\n",
    "        out = self.net(x)\n",
    "        residual = self.short(x)\n",
    "        out += residual\n",
    "        out = self.end(out)\n",
    "        return out"
   ]
  },
  {
   "cell_type": "code",
   "execution_count": null,
   "metadata": {},
   "outputs": [],
   "source": [
    "class Fc_Block4(nn.Module):\n",
    "    def _init_(self):\n",
    "        super(Block, self)._init_()\n",
    "        self.net = nn.Sequential(\n",
    "            torch.nn.Linear(32, 16),\n",
    "            torch.nn.ReLU(),\n",
    "            torch.nn.Linear(16, 10)\n",
    "        )\n",
    "        self.short = nn.Sequential(\n",
    "            torch.nn.Linear(32, 10)\n",
    "        )\n",
    "        self.end = nn.Sequential(\n",
    "#             nn.BatchNorm(32),\n",
    "            nn.ReLU(inplace = True)\n",
    "        )    \n",
    "    def forward(self, x):\n",
    "        out = self.net(x)\n",
    "        residual = self.short(x)\n",
    "        out += residual\n",
    "        out = self.end(out)\n",
    "        return out"
   ]
  },
  {
   "cell_type": "code",
   "execution_count": null,
   "metadata": {},
   "outputs": [],
   "source": [
    "class Net(nn.Module):\n",
    "    "
   ]
  },
  {
   "cell_type": "code",
   "execution_count": null,
   "metadata": {},
   "outputs": [],
   "source": [
    "def main():\n",
    "    \n",
    "    N = ner()\n",
    "    trainx =\n",
    "    trainy = \n",
    "    input()\n",
    "    criterion = \n",
    "    optimizer = torch.optim.Adam(model.parameters())\n",
    "    num_epochs = 1000\n",
    "    for epoch in range(num_epochs):\n",
    "        input = Variable(trainx)\n",
    "        target = Variable(trainy)\n",
    "        \n",
    "        out = N(inputs)\n",
    "        loss = \n",
    "        \n",
    "        optimizer.zero_grad()\n",
    "        loss.backward()\n",
    "        optimizer.step()\n",
    "        \n",
    "        if (epoch) % 50 == 0:\n",
    "            print(\"loss:{}\".format(loss.data))\n",
    "        \n",
    "    N.eval()\n",
    "    predict = N(Variable(trainx))\n",
    "    predict = predict.data.numpy()\n",
    "    print(predict)"
   ]
  },
  {
   "cell_type": "markdown",
   "metadata": {},
   "source": [
    "main()"
   ]
  }
 ],
 "metadata": {
  "kernelspec": {
   "display_name": "Python 3",
   "language": "python",
   "name": "python3"
  },
  "language_info": {
   "codemirror_mode": {
    "name": "ipython",
    "version": 3
   },
   "file_extension": ".py",
   "mimetype": "text/x-python",
   "name": "python",
   "nbconvert_exporter": "python",
   "pygments_lexer": "ipython3",
   "version": "3.6.7"
  }
 },
 "nbformat": 4,
 "nbformat_minor": 2
}
